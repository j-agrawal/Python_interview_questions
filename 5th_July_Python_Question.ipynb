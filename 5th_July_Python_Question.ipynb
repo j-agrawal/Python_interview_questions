{
 "cells": [
  {
   "cell_type": "markdown",
   "id": "756df598",
   "metadata": {},
   "source": [
    "# Q1. Write a Python program to check if a given string is an anagram."
   ]
  },
  {
   "cell_type": "code",
   "execution_count": 1,
   "id": "09aa5490",
   "metadata": {},
   "outputs": [
    {
     "name": "stdout",
     "output_type": "stream",
     "text": [
      "False\n"
     ]
    }
   ],
   "source": [
    "def anagram_string(str1,str2):\n",
    "    if sorted(str1) == sorted(str2):\n",
    "        return True\n",
    "    else:\n",
    "        return False\n",
    "\n",
    "str1=\"jayesh\"\n",
    "str2=\"rakesh\"\n",
    "print(anagram_string(str1,str2))"
   ]
  },
  {
   "cell_type": "markdown",
   "id": "a00282ae",
   "metadata": {},
   "source": [
    "# Q2. Write a Python program to find the maximum and minimum values in a dictionary."
   ]
  },
  {
   "cell_type": "code",
   "execution_count": 2,
   "id": "1ac3e68f",
   "metadata": {},
   "outputs": [
    {
     "name": "stdout",
     "output_type": "stream",
     "text": [
      "Maximum value: 20\n",
      "Minimum value: 5\n"
     ]
    }
   ],
   "source": [
    "def find_max_min_values(dictionary):\n",
    "    if len(dictionary) == 0:\n",
    "        return None, None\n",
    "\n",
    "    max_value = max(dictionary.values())\n",
    "    min_value = min(dictionary.values())\n",
    "\n",
    "    return max_value, min_value\n",
    "\n",
    "\n",
    "my_dict = {\"a\": 10, \"b\": 5, \"c\": 20, \"d\": 15}\n",
    "max_value, min_value = find_max_min_values(my_dict)\n",
    "\n",
    "print(\"Maximum value:\", max_value)\n",
    "print(\"Minimum value:\", min_value)\n"
   ]
  },
  {
   "cell_type": "markdown",
   "id": "87e88fd6",
   "metadata": {},
   "source": [
    "# Q.3 Write a Python program to find the average of a list of numbers."
   ]
  },
  {
   "cell_type": "code",
   "execution_count": 3,
   "id": "4082649f",
   "metadata": {},
   "outputs": [
    {
     "name": "stdout",
     "output_type": "stream",
     "text": [
      "Average: 3.0\n"
     ]
    }
   ],
   "source": [
    "def calculate_average(numbers):\n",
    "    if len(numbers) == 0:\n",
    "        return None\n",
    "\n",
    "    total = sum(numbers)\n",
    "    average = total / len(numbers)\n",
    "\n",
    "    return average\n",
    "\n",
    "\n",
    "my_list = [1, 2, 3, 4, 5]\n",
    "average = calculate_average(my_list)\n",
    "\n",
    "print(\"Average:\", average)\n"
   ]
  },
  {
   "cell_type": "markdown",
   "id": "35693532",
   "metadata": {},
   "source": [
    "# Q.4 Write a Python program to remove all vowels from a string."
   ]
  },
  {
   "cell_type": "code",
   "execution_count": 4,
   "id": "b20b0c33",
   "metadata": {},
   "outputs": [
    {
     "name": "stdout",
     "output_type": "stream",
     "text": [
      "Original string: Hello, World!\n",
      "String without vowels: Hll, Wrld!\n"
     ]
    }
   ],
   "source": [
    "def remove_vowels(string):\n",
    "    vowels = \"aeiouAEIOU\"\n",
    "    return \"\".join(char for char in string if char not in vowels)\n",
    "\n",
    "\n",
    "my_string = \"Hello, World!\"\n",
    "result = remove_vowels(my_string)\n",
    "\n",
    "print(\"Original string:\", my_string)\n",
    "print(\"String without vowels:\", result)\n"
   ]
  },
  {
   "cell_type": "markdown",
   "id": "8f4eeb22",
   "metadata": {},
   "source": [
    "# Q.5 Write a Python function to calculate the factorial of a number using recursion."
   ]
  },
  {
   "cell_type": "code",
   "execution_count": 5,
   "id": "82d6d9d0",
   "metadata": {},
   "outputs": [
    {
     "name": "stdout",
     "output_type": "stream",
     "text": [
      "Factorial of 5 is 120\n"
     ]
    }
   ],
   "source": [
    "def factorial(n):\n",
    "    if n == 0:\n",
    "        return 1\n",
    "    else:\n",
    "        return n * factorial(n - 1)\n",
    "\n",
    "\n",
    "number = 5\n",
    "result = factorial(number)\n",
    "\n",
    "print(\"Factorial of\", number, \"is\", result)\n"
   ]
  },
  {
   "cell_type": "markdown",
   "id": "cb5a53da",
   "metadata": {},
   "source": [
    "# Q.6 Write a Python program to merge two unsorted lists into a single sorted list using the merge sort algorithm."
   ]
  },
  {
   "cell_type": "code",
   "execution_count": 6,
   "id": "de538775",
   "metadata": {},
   "outputs": [
    {
     "name": "stdout",
     "output_type": "stream",
     "text": [
      "Merged and sorted list: [0, 1, 2, 3, 4, 5, 6, 7, 8, 9]\n"
     ]
    }
   ],
   "source": [
    "def merge_sort_merge(left, right):\n",
    "    merged = []\n",
    "    i = j = 0\n",
    "\n",
    "    while i < len(left) and j < len(right):\n",
    "        if left[i] <= right[j]:\n",
    "            merged.append(left[i])\n",
    "            i += 1\n",
    "        else:\n",
    "            merged.append(right[j])\n",
    "            j += 1\n",
    "\n",
    "    merged.extend(left[i:])\n",
    "    merged.extend(right[j:])\n",
    "\n",
    "    return merged\n",
    "\n",
    "\n",
    "def merge_sort(lst):\n",
    "    if len(lst) <= 1:\n",
    "        return lst\n",
    "\n",
    "    mid = len(lst) // 2\n",
    "    left = lst[:mid]\n",
    "    right = lst[mid:]\n",
    "\n",
    "    left = merge_sort(left)\n",
    "    right = merge_sort(right)\n",
    "\n",
    "    return merge_sort_merge(left, right)\n",
    "\n",
    "\n",
    "list1 = [5, 2, 9, 1, 7]\n",
    "list2 = [3, 6, 8, 4, 0]\n",
    "merged_list = merge_sort(list1 + list2)\n",
    "\n",
    "print(\"Merged and sorted list:\", merged_list)\n"
   ]
  },
  {
   "cell_type": "markdown",
   "id": "7c257a52",
   "metadata": {},
   "source": [
    "# Q.7 Write a Python program to find the GCD (Greatest Common Divisor) of two numbers."
   ]
  },
  {
   "cell_type": "code",
   "execution_count": 7,
   "id": "2b7232a2",
   "metadata": {},
   "outputs": [
    {
     "name": "stdout",
     "output_type": "stream",
     "text": [
      "GCD of 36 and 48 is 12\n"
     ]
    }
   ],
   "source": [
    "def gcd(a, b):\n",
    "    while b != 0:\n",
    "        a, b = b, a % b\n",
    "    return a\n",
    "\n",
    "\n",
    "number1 = 36\n",
    "number2 = 48\n",
    "result = gcd(number1, number2)\n",
    "\n",
    "print(\"GCD of\", number1, \"and\", number2, \"is\", result)\n"
   ]
  },
  {
   "cell_type": "markdown",
   "id": "97e06368",
   "metadata": {},
   "source": [
    "# Q.8 Write a Python program to find the second-largest element in a list."
   ]
  },
  {
   "cell_type": "code",
   "execution_count": 8,
   "id": "a6492411",
   "metadata": {},
   "outputs": [
    {
     "name": "stdout",
     "output_type": "stream",
     "text": [
      "Second-largest element: 8\n"
     ]
    }
   ],
   "source": [
    "def find_second_largest(numbers):\n",
    "    if len(numbers) < 2:\n",
    "        return None\n",
    "\n",
    "    largest = float('-inf')\n",
    "    second_largest = float('-inf')\n",
    "\n",
    "    for num in numbers:\n",
    "        if num > largest:\n",
    "            second_largest = largest\n",
    "            largest = num\n",
    "        elif num > second_largest and num != largest:\n",
    "            second_largest = num\n",
    "\n",
    "    if second_largest == float('-inf'):\n",
    "        return None\n",
    "\n",
    "    return second_largest\n",
    "\n",
    "my_list = [5, 2, 8, 10, 1]\n",
    "result = find_second_largest(my_list)\n",
    "\n",
    "print(\"Second-largest element:\", result)\n"
   ]
  },
  {
   "cell_type": "markdown",
   "id": "c880c651",
   "metadata": {},
   "source": [
    "# Q.9 Write a Python program to find the longest common subsequence between two strings using dynamic programming."
   ]
  },
  {
   "cell_type": "code",
   "execution_count": null,
   "id": "5880b361",
   "metadata": {},
   "outputs": [],
   "source": [
    "def longest_common_subsequence(str1, str2):\n",
    "    m = len(str1)\n",
    "    n = len(str2)\n",
    "\n",
    "    # Initialize a 2D matrix to store the lengths of common subsequences\n",
    "    dp = [[0] * (n + 1) for _ in range(m + 1)]\n",
    "\n",
    "    # Fill the matrix\n",
    "    for i in range(1, m + 1):\n",
    "        for j in range(1, n + 1):\n",
    "            if str1[i - 1] == str2[j - 1]:\n",
    "                dp[i][j] = dp[i - 1][j - 1] + 1\n",
    "            else:\n",
    "                dp[i][j] = max(dp[i - 1][j], dp[i][j - 1])\n",
    "\n",
    "    # Traverse the matrix to construct the longest common subsequence\n",
    "    lcs = \"\"\n",
    "    i, j = m, n\n",
    "    while i > 0 and j > 0:\n",
    "        if str1[i - 1] == str2[j - 1]:\n",
    "            lcs = str1[i - 1] + lcs\n",
    "            i -= 1\n",
    "            j -= 1\n",
    "        elif dp[i - 1][j] > dp[i][j - 1]:\n",
    "            i -= 1\n",
    "        else:\n",
    "            j -= 1\n",
    "\n",
    "    return lcs\n",
    "\n",
    "\n",
    "# Example usage:\n",
    "string1 = \"ABCDGH\"\n",
    "string2 = \"AEDFHR\"\n",
    "result = longest_common_subsequence(string1, string2)\n",
    "\n",
    "print(\"Longest Common Subsequence:\", result)\n"
   ]
  },
  {
   "cell_type": "code",
   "execution_count": null,
   "id": "d571518e",
   "metadata": {},
   "outputs": [],
   "source": []
  }
 ],
 "metadata": {
  "kernelspec": {
   "display_name": "Python 3",
   "language": "python",
   "name": "python3"
  },
  "language_info": {
   "codemirror_mode": {
    "name": "ipython",
    "version": 3
   },
   "file_extension": ".py",
   "mimetype": "text/x-python",
   "name": "python",
   "nbconvert_exporter": "python",
   "pygments_lexer": "ipython3",
   "version": "3.8.8"
  }
 },
 "nbformat": 4,
 "nbformat_minor": 5
}
